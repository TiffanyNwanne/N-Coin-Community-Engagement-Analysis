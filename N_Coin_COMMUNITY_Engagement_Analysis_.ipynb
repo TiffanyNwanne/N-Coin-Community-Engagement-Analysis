{
  "nbformat": 4,
  "nbformat_minor": 0,
  "metadata": {
    "colab": {
      "provenance": []
    },
    "kernelspec": {
      "name": "python3",
      "display_name": "Python 3"
    },
    "language_info": {
      "name": "python"
    }
  },
  "cells": [
    {
      "cell_type": "markdown",
      "source": [
        "# Twitter/X Data Extraction using Tweepy Library"
      ],
      "metadata": {
        "id": "yky8aycRuJI9"
      }
    },
    {
      "cell_type": "code",
      "source": [
        "import tweepy\n",
        "import pandas as pd\n"
      ],
      "metadata": {
        "id": "87boGR0yYqPW"
      },
      "execution_count": 1,
      "outputs": []
    },
    {
      "cell_type": "code",
      "source": [
        "# Set up API keys\n",
        "api_key = \"PaM8XH4giUY5ZmhLU6NBUDsjv\"\n",
        "api_secret = \"yH9T0XThlmIicQw4a2iOOxWYcorYAS96nlF8iAUaxVMiHrKAhA\"\n",
        "access_token = \"1852025377658429447-qNXc43Fb2Kv4hvFYYwBTOAuXlzJ55U\"\n",
        "access_secret = \"LnGQzglvqqn9bttz6O2xlTrAHJyBzNzB4qENZjymNsE79\"\n"
      ],
      "metadata": {
        "id": "A8JFH_eIYrhf"
      },
      "execution_count": 2,
      "outputs": []
    },
    {
      "cell_type": "code",
      "source": [
        "# Authenticate\n",
        "auth = tweepy.OAuth1UserHandler(api_key, api_secret, access_token, access_secret)\n",
        "api = tweepy.API(auth)\n"
      ],
      "metadata": {
        "id": "MluHj1b5ZEs-"
      },
      "execution_count": 3,
      "outputs": []
    },
    {
      "cell_type": "code",
      "source": [
        "# Search for Notcoin mentions\n",
        "query = \"Notcoin\"\n",
        "tweets = tweepy.Cursor(api.search_tweets, q=query, lang=\"en\", since=\"2023-11-01\", until=\"2024-11-01\").items(1000)\n"
      ],
      "metadata": {
        "id": "fNNVE5gqZJV7"
      },
      "execution_count": 16,
      "outputs": []
    },
    {
      "cell_type": "code",
      "source": [
        "# Store results\n",
        "data = [[tweet.created_at, tweet.user.screen_name, tweet.text, tweet.favorite_count, tweet.retweet_count] for tweet in tweets]\n",
        "df = pd.DataFrame(data, columns=[\"Date\", \"User\", \"Tweet\", \"Likes\", \"Retweets\"])\n",
        "df.to_csv(\"notcoin_twitter_data.csv\", index=False)"
      ],
      "metadata": {
        "id": "B73ZTNLcwE9K"
      },
      "execution_count": null,
      "outputs": []
    },
    {
      "cell_type": "markdown",
      "source": [
        "# Reddit Data Extraction"
      ],
      "metadata": {
        "id": "vqtDz1NFuHcB"
      }
    },
    {
      "cell_type": "code",
      "source": [
        "import requests\n",
        "import pandas as pd\n"
      ],
      "metadata": {
        "id": "cPfdA21puAPE"
      },
      "execution_count": 7,
      "outputs": []
    },
    {
      "cell_type": "code",
      "source": [
        "url = \"https://api.pushshift.io/reddit/search/comment/\"\n",
        "params = {\n",
        "    \"q\": \"Notcoin\",\n",
        "    \"subreddit\": \"cryptocurrency\",\n",
        "    \"after\": \"2023-11-01\",\n",
        "    \"before\": \"2024-11-01\",\n",
        "    \"size\": 1000\n",
        "}"
      ],
      "metadata": {
        "id": "Xh7MzbOVuYDD"
      },
      "execution_count": 21,
      "outputs": []
    },
    {
      "cell_type": "code",
      "source": [
        "response = requests.get(url, params=params)\n",
        "data = response.json()[\"data\"]\n",
        "\n",
        "# Convert to DataFrame\n",
        "df = pd.DataFrame(data)\n",
        "df.to_csv(\"notcoin_reddit_data.csv\", index=False)\n"
      ],
      "metadata": {
        "colab": {
          "base_uri": "https://localhost:8080/"
        },
        "collapsed": true,
        "id": "m5YdDA5hw7uF",
        "outputId": "64af9a13-8e1b-4353-caa8-ba6dc9435a14"
      },
      "execution_count": 24,
      "outputs": [
        {
          "output_type": "stream",
          "name": "stdout",
          "text": [
            "Error: Status code 403\n",
            "{\"detail\":\"Not authenticated\"}\n"
          ]
        }
      ]
    },
    {
      "cell_type": "markdown",
      "source": [
        "# Blockchain Data Extraction"
      ],
      "metadata": {
        "id": "Zj9CKhBGdJWB"
      }
    },
    {
      "cell_type": "code",
      "source": [
        "from web3 import Web3\n",
        "\n",
        "infura_url = \"https://mainnet.infura.io/v3/YOUR_INFURA_PROJECT_ID\"\n",
        "web3 = Web3(Web3.HTTPProvider(infura_url))\n",
        "\n",
        "# Replace with Notcoin contract address\n",
        "contract_address = \"0xNotcoinContractAddress\"\n",
        "\n",
        "# Get token transfers\n",
        "events = web3.eth.get_logs({\n",
        "    \"fromBlock\": \"earliest\",\n",
        "    \"toBlock\": \"latest\",\n",
        "    \"address\": contract_address\n",
        "})\n",
        "print(events)\n"
      ],
      "metadata": {
        "id": "oJ7BLnfpdIJI"
      },
      "execution_count": null,
      "outputs": []
    },
    {
      "cell_type": "code",
      "source": [
        "# Merge data\n",
        "    combined_df = pd.concat([twitter_df, reddit_df, market_df], ignore_index=True)\n",
        "    combined_df.fillna(\"N/A\", inplace=True)\n",
        "\n",
        "    # Clean and Analyze\n",
        "    analyzed_df = clean_and_analyze_data(combined_df)\n",
        "\n",
        "    # Visualization\n",
        "    plt.figure(figsize=(12, 6))\n",
        "    sns.countplot(data=analyzed_df, x=\"Platform\", hue=\"Sentiment_Label\", palette=\"coolwarm\")\n",
        "    plt.title(\"Sentiment Analysis by Platform\")\n",
        "    plt.show()\n",
        "\n",
        "    # Price Trend Visualization\n",
        "    market_trend = market_df.set_index(\"Date\")\n",
        "    plt.figure(figsize=(12, 6))\n",
        "    market_trend[\"Price\"].plot(title=\"Notcoin Market Price Trend\", color=\"green\")\n",
        "    plt.show()"
      ],
      "metadata": {
        "id": "gFtkYB6eeYyh"
      },
      "execution_count": null,
      "outputs": []
    },
    {
      "cell_type": "code",
      "source": [
        "# Save to CSV\n",
        "    analyzed_df.to_csv(\"notcoin_community_analysis.csv\", index=False)\n"
      ],
      "metadata": {
        "id": "sM4YNNsDeZnD"
      },
      "execution_count": null,
      "outputs": []
    }
  ]
}